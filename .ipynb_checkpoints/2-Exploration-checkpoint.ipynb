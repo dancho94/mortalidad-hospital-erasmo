{
 "cells": [
  {
   "cell_type": "code",
   "execution_count": 40,
   "id": "dd27655d",
   "metadata": {},
   "outputs": [],
   "source": [
    "import pandas as pd\n",
    "import os\n",
    "import matplotlib.pyplot as plt\n",
    "import seaborn as sns\n",
    "import nltk\n",
    "import re"
   ]
  },
  {
   "cell_type": "code",
   "execution_count": 5,
   "id": "cf18b0d4",
   "metadata": {},
   "outputs": [
    {
     "data": {
      "text/plain": [
       "'/home/dani94/Data_mortalidad/mortalidad-hospital-erasmo'"
      ]
     },
     "execution_count": 5,
     "metadata": {},
     "output_type": "execute_result"
    }
   ],
   "source": [
    "os.getcwd()"
   ]
  },
  {
   "cell_type": "code",
   "execution_count": 6,
   "id": "726e7d2b",
   "metadata": {},
   "outputs": [],
   "source": [
    "os.chdir('/home/dani94/Data_mortalidad/mortalidad-hospital-erasmo/dataset')"
   ]
  },
  {
   "cell_type": "code",
   "execution_count": 7,
   "id": "1da02bdb",
   "metadata": {},
   "outputs": [],
   "source": [
    "data = pd.read_csv('clean_mortalidad_historico.csv')"
   ]
  },
  {
   "cell_type": "code",
   "execution_count": 8,
   "id": "5e472a7a",
   "metadata": {},
   "outputs": [],
   "source": [
    "data.head(-5)"
   ]
  },
  {
   "cell_type": "code",
   "execution_count": 9,
   "id": "29dbb8eb",
   "metadata": {},
   "outputs": [],
   "source": [
    "data.dtypes"
   ]
  },
  {
   "cell_type": "code",
   "execution_count": 10,
   "id": "85f67ca5",
   "metadata": {},
   "outputs": [],
   "source": [
    "data.describe()"
   ]
  },
  {
   "cell_type": "code",
   "execution_count": 11,
   "id": "f5723cbf",
   "metadata": {},
   "outputs": [],
   "source": [
    "data.info()"
   ]
  },
  {
   "cell_type": "code",
   "execution_count": 12,
   "id": "e417fe65",
   "metadata": {},
   "outputs": [],
   "source": [
    "data['edad'].max()"
   ]
  },
  {
   "cell_type": "code",
   "execution_count": 13,
   "id": "3727cb3b",
   "metadata": {},
   "outputs": [],
   "source": [
    "plt.hist(data['edad'], bins=30, edgecolor='black')\n",
    "plt.xlabel('edad')\n",
    "plt.ylabel('frecuencia')\n",
    "plt.title('distribución de edades')\n",
    "plt.show()"
   ]
  },
  {
   "cell_type": "code",
   "execution_count": 14,
   "id": "1415b3ec",
   "metadata": {},
   "outputs": [],
   "source": [
    "diagnostico_counts = data['DIAGNOSTICO'].value_counts().head(10)"
   ]
  },
  {
   "cell_type": "code",
   "execution_count": 15,
   "id": "e5d4ad88",
   "metadata": {},
   "outputs": [],
   "source": [
    "plt.bar(diagnostico_counts.index, diagnostico_counts.values)\n",
    "plt.xlabel('Diagnóstico')\n",
    "plt.ylabel('Cantidad')\n",
    "plt.title('Diagnósticos más comunes')\n",
    "plt.xticks(rotation=90)\n",
    "plt.show()"
   ]
  },
  {
   "cell_type": "code",
   "execution_count": 16,
   "id": "a7f96cc7",
   "metadata": {},
   "outputs": [],
   "source": [
    "sexo_counts = data['SEXO'].value_counts()"
   ]
  },
  {
   "cell_type": "code",
   "execution_count": 17,
   "id": "6d3ef3b0",
   "metadata": {},
   "outputs": [],
   "source": [
    "plt.pie(sexo_counts.values, labels=sexo_counts.index, autopct='%1.1f%%', wedgeprops={'linewidth':2, 'edgecolor':'white'})\n",
    "plt.title('proporcion de sexos')\n",
    "plt.show()"
   ]
  },
  {
   "cell_type": "code",
   "execution_count": 18,
   "id": "acd9404d",
   "metadata": {},
   "outputs": [],
   "source": [
    "count_year = data['año'].value_counts().sort_index()"
   ]
  },
  {
   "cell_type": "code",
   "execution_count": 19,
   "id": "10d9aceb",
   "metadata": {},
   "outputs": [],
   "source": [
    "plt.plot(count_year.index, count_year.values)\n",
    "plt.xlabel('Año')\n",
    "plt.ylabel('Cantidad')\n",
    "plt.title('Evolución de la mortalidad por año')\n",
    "plt.show()"
   ]
  },
  {
   "cell_type": "code",
   "execution_count": 20,
   "id": "18d8047f",
   "metadata": {},
   "outputs": [],
   "source": [
    "#Gráfico para mostrar la tendencia de mortalidad por mes\n",
    "\n",
    "#convertimos la columna fecha a datetime\n",
    "data['FECHA'] = pd.to_datetime(data['FECHA'])\n",
    "\n",
    "#agrupamos los datos por mes y calcular el conteo de registros\n",
    "count_for_month = data.groupby(data['FECHA'].dt.month)['FECHA'].count()\n",
    "\n",
    "#gráfico de lineas\n",
    "month = ['ene', 'feb', 'mar', 'abr', 'may', 'jun', 'jul', 'ago', 'sep', 'oct', 'nov', 'dic']\n",
    "\n",
    "plt.plot(month, count_for_month)\n",
    "plt.xlabel('Mes')\n",
    "plt.ylabel('Cantidad')\n",
    "plt.title('Tendencia de Mortalidad por mes')\n",
    "plt.show()"
   ]
  },
  {
   "cell_type": "code",
   "execution_count": 21,
   "id": "59f37dff",
   "metadata": {},
   "outputs": [],
   "source": [
    "year = 2018\n",
    "\n",
    "plt.figure(figsize=(10,6))\n",
    "\n",
    "\n",
    "data_filtrada =  data[data['FECHA'].dt.year == year]\n",
    "count_for_month = data_filtrada.groupby(data_filtrada['FECHA'].dt.month)['FECHA'].count()\n",
    "meses = ['ene', 'feb', 'mar', 'abr', 'may', 'jun', 'jul', 'ago', 'sep', 'oct', 'nov', 'dic']\n",
    "\n",
    "plt.plot(meses, count_for_month)\n",
    "    \n",
    "plt.xlabel('Mes')\n",
    "plt.ylabel('Cantidad')\n",
    "plt.title(f'Tendencia de Mortalidad por mes - año {year}')\n",
    "plt.show()\n",
    "\n",
    "\n"
   ]
  },
  {
   "cell_type": "code",
   "execution_count": null,
   "id": "81b1318a",
   "metadata": {},
   "outputs": [],
   "source": []
  },
  {
   "cell_type": "code",
   "execution_count": 22,
   "id": "635c554e",
   "metadata": {},
   "outputs": [],
   "source": [
    "#Transformación de object a datetime\n",
    "data['FECHA'] = pd.to_datetime(data['FECHA'])"
   ]
  },
  {
   "cell_type": "code",
   "execution_count": 23,
   "id": "3f6bedf2",
   "metadata": {},
   "outputs": [],
   "source": [
    "#Función que gráfica la mortalidad de cada año dividida en meses.\n",
    "def mortalidad_anio(anio):\n",
    "    year = anio\n",
    "    data_filtrada =  data[data['FECHA'].dt.year == year]\n",
    "\n",
    "    conteo_por_mes_s = data_filtrada.groupby([data_filtrada['FECHA'].dt.month, 'SEXO'])['FECHA'].count()\n",
    "    \n",
    "    data_tendencia = conteo_por_mes_s.unstack(level='SEXO')\n",
    "    \n",
    "    meses = ['ene', 'feb', 'mar', 'abr', 'may', 'jun', 'jul', 'ago', 'sep', 'oct', 'nov', 'dic']\n",
    "    plt.plot(meses, data_tendencia[0], label='Hombres')\n",
    "    plt.plot(meses, data_tendencia[1], label='Mujeres')\n",
    "    plt.xlabel('Mes')\n",
    "    plt.ylabel('Cantidad')\n",
    "    plt.title(f'Tendencia de Mortalidad por mes - año{year}')\n",
    "    plt.legend()\n",
    "    plt.show()"
   ]
  },
  {
   "cell_type": "code",
   "execution_count": 24,
   "id": "aa8f892d",
   "metadata": {},
   "outputs": [],
   "source": [
    "mortalidad_anio(2018)"
   ]
  },
  {
   "cell_type": "code",
   "execution_count": 25,
   "id": "dfdc1285",
   "metadata": {},
   "outputs": [],
   "source": [
    "mortalidad_anio(2019)"
   ]
  },
  {
   "cell_type": "code",
   "execution_count": 26,
   "id": "307c1ea0",
   "metadata": {},
   "outputs": [],
   "source": [
    "mortalidad_anio(2020)"
   ]
  },
  {
   "cell_type": "code",
   "execution_count": 27,
   "id": "64f3ad1b",
   "metadata": {},
   "outputs": [],
   "source": [
    "mortalidad_anio(2021)"
   ]
  },
  {
   "cell_type": "code",
   "execution_count": 28,
   "id": "04c072bd",
   "metadata": {},
   "outputs": [],
   "source": [
    "mortalidad_anio(2022)"
   ]
  },
  {
   "cell_type": "code",
   "execution_count": 29,
   "id": "eb68cb10",
   "metadata": {},
   "outputs": [],
   "source": [
    "import numpy as np\n",
    "diagnostico_counts_s = data['DIAGNOSTICO'].value_counts().head(15).index\n",
    "data_filtrado_sexo = data[data['DIAGNOSTICO'].isin(diagnostico_counts_s)]\n",
    "conteo_diagnostico_sexo = data_filtrado_sexo.groupby(['DIAGNOSTICO', 'SEXO']).size().unstack()\n",
    "\n",
    "n = len(conteo_diagnostico_sexo)\n",
    "width = 0.4\n",
    "x = np.arange(n)\n",
    "\n",
    "fig, ax = plt.subplots()\n",
    "rects1 = ax.bar(x - width/2, conteo_diagnostico_sexo[0], width, label='Hombre')\n",
    "rects1 = ax.bar(x + width/2, conteo_diagnostico_sexo[1], width, label='Mujer')\n",
    "\n",
    "ax.set_xlabel('diagnóstico')\n",
    "ax.set_ylabel('Cantidad')\n",
    "ax.set_title('Diagnóstico mas frecuente por sexo')\n",
    "ax.set_xticks(x)\n",
    "ax.set_xticklabels(conteo_diagnostico_sexo.index, rotation=90)\n",
    "ax.legend(title='Sexo')\n",
    "plt.show()"
   ]
  },
  {
   "cell_type": "code",
   "execution_count": 30,
   "id": "022a7054",
   "metadata": {},
   "outputs": [],
   "source": [
    "data['DIAGNOSTICO'].value_counts()"
   ]
  },
  {
   "cell_type": "code",
   "execution_count": 31,
   "id": "9d18969d",
   "metadata": {},
   "outputs": [],
   "source": [
    "data['edad'].value_counts()"
   ]
  },
  {
   "cell_type": "code",
   "execution_count": 32,
   "id": "0b062d06",
   "metadata": {},
   "outputs": [],
   "source": [
    "data['FECHA NACIO'] = pd.to_datetime(data['FECHA NACIO'])"
   ]
  },
  {
   "cell_type": "code",
   "execution_count": 33,
   "id": "82cc5238",
   "metadata": {},
   "outputs": [],
   "source": [
    "data.dtypes"
   ]
  },
  {
   "cell_type": "code",
   "execution_count": 34,
   "id": "d8aba3fa",
   "metadata": {},
   "outputs": [],
   "source": [
    "variables_incluidas = ['FECHA', 'FECHA NACIO', 'SEXO', 'año', 'SERVICIO_NEONATOLOGIA', 'SERVICIO_PEDIATRIA MEDICA',\n",
    "                       'SERVICIO_RECUPERACION', 'SERVICIO_SALA DE PARTOS', 'SERVICIO_UCIN', 'SERVICIO_UNIDAD DE CUIDADO INTERMEDIO',\n",
    "                       'SERVIVIO_PISO_5_12', 'SERVICIO_URGENCIA ADULTO', 'SERVICIOS_URGENCIA PEDIATRIA', 'edad', ]\n",
    "\n",
    "data_filter = data[variables_incluidas]\n",
    "\n",
    "correlation_matrix = data_filter.corr()"
   ]
  },
  {
   "cell_type": "code",
   "execution_count": 35,
   "id": "b17bb0c7",
   "metadata": {},
   "outputs": [],
   "source": [
    "plt.figure(figsize=(10,8))\n",
    "sns.heatmap(correlation_matrix, annot=True, cmap='coolwarm')\n",
    "plt.title('Matriz de correlación')\n",
    "plt.show()"
   ]
  },
  {
   "cell_type": "code",
   "execution_count": 36,
   "id": "459001c9",
   "metadata": {},
   "outputs": [],
   "source": [
    "x = data['edad']\n",
    "y =  data['FECHA NACIO']\n",
    "\n",
    "plt.scatter(x,y)\n",
    "\n",
    "plt.xlabel('edad')\n",
    "plt.ylabel('Fecha nacio')\n",
    "plt.title('Gráfico de dispersión')\n",
    "plt.show()"
   ]
  },
  {
   "cell_type": "markdown",
   "id": "b3fc773e",
   "metadata": {},
   "source": [
    "### Procesamiento de texto"
   ]
  },
  {
   "cell_type": "code",
   "execution_count": 37,
   "id": "fc396cff",
   "metadata": {},
   "outputs": [],
   "source": [
    "from nltk.tokenize import word_tokenize"
   ]
  },
  {
   "cell_type": "code",
   "execution_count": 38,
   "id": "49fc2d65",
   "metadata": {},
   "outputs": [],
   "source": [
    "tokens = word_tokenize(data['DIAGNOSTICO'])"
   ]
  },
  {
   "cell_type": "code",
   "execution_count": 42,
   "id": "d239be8a",
   "metadata": {},
   "outputs": [],
   "source": [
    "diagnostico = data['DIAGNOSTICO']\n",
    "\n",
    "#eliminar caracteres especiales utilizando expresiones regulares\n",
    "diagnostico_limpio = diagnostico.apply(lambda x: re.sub(r'[^a-zA-Z0-9\\s]', '', x))\n"
   ]
  },
  {
   "cell_type": "code",
   "execution_count": 45,
   "id": "870efc81",
   "metadata": {},
   "outputs": [],
   "source": [
    "#Convertir todo a minusculas\n",
    "diagnostico_min = diagnostico.str.lower()"
   ]
  },
  {
   "cell_type": "code",
   "execution_count": null,
   "id": "125166f0",
   "metadata": {
    "collapsed": true
   },
   "outputs": [],
   "source": []
  },
  {
   "cell_type": "code",
   "execution_count": null,
   "id": "27b3ca2f",
   "metadata": {},
   "outputs": [],
   "source": []
  }
 ],
 "metadata": {
  "kernelspec": {
   "display_name": "Python 3 (ipykernel)",
   "language": "python",
   "name": "python3"
  },
  "language_info": {
   "codemirror_mode": {
    "name": "ipython",
    "version": 3
   },
   "file_extension": ".py",
   "mimetype": "text/x-python",
   "name": "python",
   "nbconvert_exporter": "python",
   "pygments_lexer": "ipython3",
   "version": "3.10.6"
  }
 },
 "nbformat": 4,
 "nbformat_minor": 5
}
