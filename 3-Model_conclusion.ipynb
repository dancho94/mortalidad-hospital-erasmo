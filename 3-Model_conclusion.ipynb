{
 "cells": [
  {
   "cell_type": "code",
   "execution_count": 1,
   "id": "e184bd7a",
   "metadata": {},
   "outputs": [],
   "source": [
    "import pandas as pd\n",
    "import matplotlib.pyplot as plt\n",
    "import os"
   ]
  },
  {
   "cell_type": "code",
   "execution_count": 2,
   "id": "c2f3dfe8",
   "metadata": {},
   "outputs": [
    {
     "data": {
      "text/plain": [
       "'/home/dani94/Data_mortalidad/mortalidad-hospital-erasmo'"
      ]
     },
     "execution_count": 2,
     "metadata": {},
     "output_type": "execute_result"
    }
   ],
   "source": [
    "os.getcwd()"
   ]
  },
  {
   "cell_type": "code",
   "execution_count": 3,
   "id": "9f2ff1f6",
   "metadata": {},
   "outputs": [],
   "source": [
    "os.chdir('/home/dani94/Data_mortalidad/mortalidad-hospital-erasmo/dataset')"
   ]
  },
  {
   "cell_type": "code",
   "execution_count": 4,
   "id": "fcde999d",
   "metadata": {},
   "outputs": [],
   "source": [
    "data = pd.read_csv('clean_mortalidad_historico.csv')"
   ]
  },
  {
   "cell_type": "code",
   "execution_count": 5,
   "id": "04636360",
   "metadata": {},
   "outputs": [],
   "source": [
    "data['FECHA'] = pd.to_datetime(data['FECHA'])\n",
    "\n",
    "data['DIA'] = data['FECHA'].dt.day \n",
    "data['MES'] = data['FECHA'].dt.month"
   ]
  },
  {
   "cell_type": "code",
   "execution_count": 6,
   "id": "f83c5c13",
   "metadata": {},
   "outputs": [
    {
     "data": {
      "text/html": [
       "<div>\n",
       "<style scoped>\n",
       "    .dataframe tbody tr th:only-of-type {\n",
       "        vertical-align: middle;\n",
       "    }\n",
       "\n",
       "    .dataframe tbody tr th {\n",
       "        vertical-align: top;\n",
       "    }\n",
       "\n",
       "    .dataframe thead th {\n",
       "        text-align: right;\n",
       "    }\n",
       "</style>\n",
       "<table border=\"1\" class=\"dataframe\">\n",
       "  <thead>\n",
       "    <tr style=\"text-align: right;\">\n",
       "      <th></th>\n",
       "      <th>FECHA</th>\n",
       "      <th>DIAGNOSTICO</th>\n",
       "      <th>FECHA NACIO</th>\n",
       "      <th>SEXO</th>\n",
       "      <th>año</th>\n",
       "      <th>SERVICIO_NEONATOLOGIA</th>\n",
       "      <th>SERVICIO_PEDIATRIA MEDICA</th>\n",
       "      <th>SERVICIO_RECUPERACION</th>\n",
       "      <th>SERVICIO_SALA DE PARTOS</th>\n",
       "      <th>SERVICIO_UCIN</th>\n",
       "      <th>SERVICIO_UNIDAD DE CUIDADO INTERMEDIO</th>\n",
       "      <th>SERVIVIO_PISO_5_12</th>\n",
       "      <th>SERVICIO_URGENCIA ADULTO</th>\n",
       "      <th>SERVICIOS_URGENCIA PEDIATRIA</th>\n",
       "      <th>edad</th>\n",
       "      <th>DIA</th>\n",
       "      <th>MES</th>\n",
       "    </tr>\n",
       "  </thead>\n",
       "  <tbody>\n",
       "    <tr>\n",
       "      <th>0</th>\n",
       "      <td>2018-08-30 10:22:16</td>\n",
       "      <td>DIARREA Y GASTROENTERITIS DE PRESUNTO ORIGEN I...</td>\n",
       "      <td>2017-11-05 12:00:00</td>\n",
       "      <td>0</td>\n",
       "      <td>2018</td>\n",
       "      <td>False</td>\n",
       "      <td>False</td>\n",
       "      <td>False</td>\n",
       "      <td>False</td>\n",
       "      <td>False</td>\n",
       "      <td>False</td>\n",
       "      <td>False</td>\n",
       "      <td>False</td>\n",
       "      <td>True</td>\n",
       "      <td>0</td>\n",
       "      <td>30</td>\n",
       "      <td>8</td>\n",
       "    </tr>\n",
       "    <tr>\n",
       "      <th>1</th>\n",
       "      <td>2018-10-07 07:59:50</td>\n",
       "      <td>DIARREA Y GASTROENTERITIS DE PRESUNTO ORIGEN I...</td>\n",
       "      <td>1989-06-09 12:00:00</td>\n",
       "      <td>1</td>\n",
       "      <td>2018</td>\n",
       "      <td>False</td>\n",
       "      <td>False</td>\n",
       "      <td>False</td>\n",
       "      <td>False</td>\n",
       "      <td>False</td>\n",
       "      <td>False</td>\n",
       "      <td>False</td>\n",
       "      <td>True</td>\n",
       "      <td>False</td>\n",
       "      <td>29</td>\n",
       "      <td>7</td>\n",
       "      <td>10</td>\n",
       "    </tr>\n",
       "    <tr>\n",
       "      <th>2</th>\n",
       "      <td>2018-06-20 02:59:47</td>\n",
       "      <td>DIARREA Y GASTROENTERITIS DE PRESUNTO ORIGEN I...</td>\n",
       "      <td>1938-05-23 12:00:00</td>\n",
       "      <td>1</td>\n",
       "      <td>2018</td>\n",
       "      <td>False</td>\n",
       "      <td>False</td>\n",
       "      <td>False</td>\n",
       "      <td>False</td>\n",
       "      <td>False</td>\n",
       "      <td>False</td>\n",
       "      <td>False</td>\n",
       "      <td>True</td>\n",
       "      <td>False</td>\n",
       "      <td>80</td>\n",
       "      <td>20</td>\n",
       "      <td>6</td>\n",
       "    </tr>\n",
       "    <tr>\n",
       "      <th>3</th>\n",
       "      <td>2018-04-05 05:23:01</td>\n",
       "      <td>DIARREA Y GASTROENTERITIS DE PRESUNTO ORIGEN I...</td>\n",
       "      <td>2017-08-01 12:00:00</td>\n",
       "      <td>1</td>\n",
       "      <td>2018</td>\n",
       "      <td>False</td>\n",
       "      <td>False</td>\n",
       "      <td>False</td>\n",
       "      <td>False</td>\n",
       "      <td>False</td>\n",
       "      <td>False</td>\n",
       "      <td>False</td>\n",
       "      <td>False</td>\n",
       "      <td>True</td>\n",
       "      <td>0</td>\n",
       "      <td>5</td>\n",
       "      <td>4</td>\n",
       "    </tr>\n",
       "    <tr>\n",
       "      <th>4</th>\n",
       "      <td>2018-11-10 04:35:50</td>\n",
       "      <td>TUBERCULOSIS DEL PULMON, CONFIRMADA POR HALLAZ...</td>\n",
       "      <td>1982-02-02 12:00:00</td>\n",
       "      <td>0</td>\n",
       "      <td>2018</td>\n",
       "      <td>False</td>\n",
       "      <td>False</td>\n",
       "      <td>False</td>\n",
       "      <td>False</td>\n",
       "      <td>False</td>\n",
       "      <td>False</td>\n",
       "      <td>False</td>\n",
       "      <td>True</td>\n",
       "      <td>False</td>\n",
       "      <td>36</td>\n",
       "      <td>10</td>\n",
       "      <td>11</td>\n",
       "    </tr>\n",
       "  </tbody>\n",
       "</table>\n",
       "</div>"
      ],
      "text/plain": [
       "                FECHA                                        DIAGNOSTICO  \\\n",
       "0 2018-08-30 10:22:16  DIARREA Y GASTROENTERITIS DE PRESUNTO ORIGEN I...   \n",
       "1 2018-10-07 07:59:50  DIARREA Y GASTROENTERITIS DE PRESUNTO ORIGEN I...   \n",
       "2 2018-06-20 02:59:47  DIARREA Y GASTROENTERITIS DE PRESUNTO ORIGEN I...   \n",
       "3 2018-04-05 05:23:01  DIARREA Y GASTROENTERITIS DE PRESUNTO ORIGEN I...   \n",
       "4 2018-11-10 04:35:50  TUBERCULOSIS DEL PULMON, CONFIRMADA POR HALLAZ...   \n",
       "\n",
       "           FECHA NACIO  SEXO   año  SERVICIO_NEONATOLOGIA  \\\n",
       "0  2017-11-05 12:00:00     0  2018                  False   \n",
       "1  1989-06-09 12:00:00     1  2018                  False   \n",
       "2  1938-05-23 12:00:00     1  2018                  False   \n",
       "3  2017-08-01 12:00:00     1  2018                  False   \n",
       "4  1982-02-02 12:00:00     0  2018                  False   \n",
       "\n",
       "   SERVICIO_PEDIATRIA MEDICA  SERVICIO_RECUPERACION  SERVICIO_SALA DE PARTOS  \\\n",
       "0                      False                  False                    False   \n",
       "1                      False                  False                    False   \n",
       "2                      False                  False                    False   \n",
       "3                      False                  False                    False   \n",
       "4                      False                  False                    False   \n",
       "\n",
       "   SERVICIO_UCIN  SERVICIO_UNIDAD DE CUIDADO INTERMEDIO  SERVIVIO_PISO_5_12  \\\n",
       "0          False                                  False               False   \n",
       "1          False                                  False               False   \n",
       "2          False                                  False               False   \n",
       "3          False                                  False               False   \n",
       "4          False                                  False               False   \n",
       "\n",
       "   SERVICIO_URGENCIA ADULTO  SERVICIOS_URGENCIA PEDIATRIA  edad  DIA  MES  \n",
       "0                     False                          True     0   30    8  \n",
       "1                      True                         False    29    7   10  \n",
       "2                      True                         False    80   20    6  \n",
       "3                     False                          True     0    5    4  \n",
       "4                      True                         False    36   10   11  "
      ]
     },
     "execution_count": 6,
     "metadata": {},
     "output_type": "execute_result"
    }
   ],
   "source": [
    "data.head()"
   ]
  },
  {
   "cell_type": "code",
   "execution_count": 7,
   "id": "7454e89d",
   "metadata": {},
   "outputs": [],
   "source": [
    "data_spv = data.copy()\n",
    "\n",
    "for i, column in enumerate(list([str(d) for d in data_spv.dtypes])):\n",
    "    if column == 'object':\n",
    "        data_spv[data_spv.columns[i]] = data_spv[data_spv.columns[i]].fillna(data_spv[data_spv.columns[i]].mode())\n",
    "        data_spv[data_spv.columns[i]] = data_spv[data_spv.columns[i]].astype(\"category\").cat.codes\n",
    "    else:\n",
    "        data_spv[data_spv.columns[i]] = data_spv[data_spv.columns[i]].fillna(data_spv[data_spv.columns[i]].median())"
   ]
  },
  {
   "cell_type": "code",
   "execution_count": 8,
   "id": "bc6872b3",
   "metadata": {},
   "outputs": [
    {
     "data": {
      "text/html": [
       "<div>\n",
       "<style scoped>\n",
       "    .dataframe tbody tr th:only-of-type {\n",
       "        vertical-align: middle;\n",
       "    }\n",
       "\n",
       "    .dataframe tbody tr th {\n",
       "        vertical-align: top;\n",
       "    }\n",
       "\n",
       "    .dataframe thead th {\n",
       "        text-align: right;\n",
       "    }\n",
       "</style>\n",
       "<table border=\"1\" class=\"dataframe\">\n",
       "  <thead>\n",
       "    <tr style=\"text-align: right;\">\n",
       "      <th></th>\n",
       "      <th>FECHA</th>\n",
       "      <th>DIAGNOSTICO</th>\n",
       "      <th>FECHA NACIO</th>\n",
       "      <th>SEXO</th>\n",
       "      <th>año</th>\n",
       "      <th>SERVICIO_NEONATOLOGIA</th>\n",
       "      <th>SERVICIO_PEDIATRIA MEDICA</th>\n",
       "      <th>SERVICIO_RECUPERACION</th>\n",
       "      <th>SERVICIO_SALA DE PARTOS</th>\n",
       "      <th>SERVICIO_UCIN</th>\n",
       "      <th>SERVICIO_UNIDAD DE CUIDADO INTERMEDIO</th>\n",
       "      <th>SERVIVIO_PISO_5_12</th>\n",
       "      <th>SERVICIO_URGENCIA ADULTO</th>\n",
       "      <th>SERVICIOS_URGENCIA PEDIATRIA</th>\n",
       "      <th>edad</th>\n",
       "      <th>DIA</th>\n",
       "      <th>MES</th>\n",
       "    </tr>\n",
       "  </thead>\n",
       "  <tbody>\n",
       "    <tr>\n",
       "      <th>0</th>\n",
       "      <td>2018-08-30 10:22:16</td>\n",
       "      <td>153</td>\n",
       "      <td>5083</td>\n",
       "      <td>0</td>\n",
       "      <td>2018</td>\n",
       "      <td>False</td>\n",
       "      <td>False</td>\n",
       "      <td>False</td>\n",
       "      <td>False</td>\n",
       "      <td>False</td>\n",
       "      <td>False</td>\n",
       "      <td>False</td>\n",
       "      <td>False</td>\n",
       "      <td>True</td>\n",
       "      <td>0</td>\n",
       "      <td>30</td>\n",
       "      <td>8</td>\n",
       "    </tr>\n",
       "    <tr>\n",
       "      <th>1</th>\n",
       "      <td>2018-10-07 07:59:50</td>\n",
       "      <td>153</td>\n",
       "      <td>4651</td>\n",
       "      <td>1</td>\n",
       "      <td>2018</td>\n",
       "      <td>False</td>\n",
       "      <td>False</td>\n",
       "      <td>False</td>\n",
       "      <td>False</td>\n",
       "      <td>False</td>\n",
       "      <td>False</td>\n",
       "      <td>False</td>\n",
       "      <td>True</td>\n",
       "      <td>False</td>\n",
       "      <td>29</td>\n",
       "      <td>7</td>\n",
       "      <td>10</td>\n",
       "    </tr>\n",
       "    <tr>\n",
       "      <th>2</th>\n",
       "      <td>2018-06-20 02:59:47</td>\n",
       "      <td>153</td>\n",
       "      <td>875</td>\n",
       "      <td>1</td>\n",
       "      <td>2018</td>\n",
       "      <td>False</td>\n",
       "      <td>False</td>\n",
       "      <td>False</td>\n",
       "      <td>False</td>\n",
       "      <td>False</td>\n",
       "      <td>False</td>\n",
       "      <td>False</td>\n",
       "      <td>True</td>\n",
       "      <td>False</td>\n",
       "      <td>80</td>\n",
       "      <td>20</td>\n",
       "      <td>6</td>\n",
       "    </tr>\n",
       "    <tr>\n",
       "      <th>3</th>\n",
       "      <td>2018-04-05 05:23:01</td>\n",
       "      <td>153</td>\n",
       "      <td>5078</td>\n",
       "      <td>1</td>\n",
       "      <td>2018</td>\n",
       "      <td>False</td>\n",
       "      <td>False</td>\n",
       "      <td>False</td>\n",
       "      <td>False</td>\n",
       "      <td>False</td>\n",
       "      <td>False</td>\n",
       "      <td>False</td>\n",
       "      <td>False</td>\n",
       "      <td>True</td>\n",
       "      <td>0</td>\n",
       "      <td>5</td>\n",
       "      <td>4</td>\n",
       "    </tr>\n",
       "    <tr>\n",
       "      <th>4</th>\n",
       "      <td>2018-11-10 04:35:50</td>\n",
       "      <td>661</td>\n",
       "      <td>4415</td>\n",
       "      <td>0</td>\n",
       "      <td>2018</td>\n",
       "      <td>False</td>\n",
       "      <td>False</td>\n",
       "      <td>False</td>\n",
       "      <td>False</td>\n",
       "      <td>False</td>\n",
       "      <td>False</td>\n",
       "      <td>False</td>\n",
       "      <td>True</td>\n",
       "      <td>False</td>\n",
       "      <td>36</td>\n",
       "      <td>10</td>\n",
       "      <td>11</td>\n",
       "    </tr>\n",
       "    <tr>\n",
       "      <th>...</th>\n",
       "      <td>...</td>\n",
       "      <td>...</td>\n",
       "      <td>...</td>\n",
       "      <td>...</td>\n",
       "      <td>...</td>\n",
       "      <td>...</td>\n",
       "      <td>...</td>\n",
       "      <td>...</td>\n",
       "      <td>...</td>\n",
       "      <td>...</td>\n",
       "      <td>...</td>\n",
       "      <td>...</td>\n",
       "      <td>...</td>\n",
       "      <td>...</td>\n",
       "      <td>...</td>\n",
       "      <td>...</td>\n",
       "      <td>...</td>\n",
       "    </tr>\n",
       "    <tr>\n",
       "      <th>6526</th>\n",
       "      <td>2022-01-01 11:50:00</td>\n",
       "      <td>112</td>\n",
       "      <td>178</td>\n",
       "      <td>0</td>\n",
       "      <td>2022</td>\n",
       "      <td>False</td>\n",
       "      <td>False</td>\n",
       "      <td>False</td>\n",
       "      <td>False</td>\n",
       "      <td>False</td>\n",
       "      <td>False</td>\n",
       "      <td>False</td>\n",
       "      <td>True</td>\n",
       "      <td>False</td>\n",
       "      <td>92</td>\n",
       "      <td>1</td>\n",
       "      <td>1</td>\n",
       "    </tr>\n",
       "    <tr>\n",
       "      <th>6527</th>\n",
       "      <td>2022-03-02 05:59:27</td>\n",
       "      <td>112</td>\n",
       "      <td>562</td>\n",
       "      <td>1</td>\n",
       "      <td>2022</td>\n",
       "      <td>False</td>\n",
       "      <td>False</td>\n",
       "      <td>False</td>\n",
       "      <td>False</td>\n",
       "      <td>False</td>\n",
       "      <td>False</td>\n",
       "      <td>False</td>\n",
       "      <td>True</td>\n",
       "      <td>False</td>\n",
       "      <td>86</td>\n",
       "      <td>2</td>\n",
       "      <td>3</td>\n",
       "    </tr>\n",
       "    <tr>\n",
       "      <th>6528</th>\n",
       "      <td>2022-02-09 09:16:25</td>\n",
       "      <td>112</td>\n",
       "      <td>879</td>\n",
       "      <td>1</td>\n",
       "      <td>2022</td>\n",
       "      <td>False</td>\n",
       "      <td>False</td>\n",
       "      <td>False</td>\n",
       "      <td>False</td>\n",
       "      <td>False</td>\n",
       "      <td>False</td>\n",
       "      <td>False</td>\n",
       "      <td>True</td>\n",
       "      <td>False</td>\n",
       "      <td>83</td>\n",
       "      <td>9</td>\n",
       "      <td>2</td>\n",
       "    </tr>\n",
       "    <tr>\n",
       "      <th>6529</th>\n",
       "      <td>2022-09-13 08:31:12</td>\n",
       "      <td>161</td>\n",
       "      <td>4868</td>\n",
       "      <td>1</td>\n",
       "      <td>2022</td>\n",
       "      <td>False</td>\n",
       "      <td>False</td>\n",
       "      <td>False</td>\n",
       "      <td>False</td>\n",
       "      <td>False</td>\n",
       "      <td>False</td>\n",
       "      <td>False</td>\n",
       "      <td>True</td>\n",
       "      <td>False</td>\n",
       "      <td>26</td>\n",
       "      <td>13</td>\n",
       "      <td>9</td>\n",
       "    </tr>\n",
       "    <tr>\n",
       "      <th>6530</th>\n",
       "      <td>2022-06-16 05:27:10</td>\n",
       "      <td>163</td>\n",
       "      <td>4198</td>\n",
       "      <td>0</td>\n",
       "      <td>2022</td>\n",
       "      <td>False</td>\n",
       "      <td>False</td>\n",
       "      <td>False</td>\n",
       "      <td>False</td>\n",
       "      <td>False</td>\n",
       "      <td>False</td>\n",
       "      <td>False</td>\n",
       "      <td>True</td>\n",
       "      <td>False</td>\n",
       "      <td>45</td>\n",
       "      <td>16</td>\n",
       "      <td>6</td>\n",
       "    </tr>\n",
       "  </tbody>\n",
       "</table>\n",
       "<p>6531 rows × 17 columns</p>\n",
       "</div>"
      ],
      "text/plain": [
       "                   FECHA  DIAGNOSTICO  FECHA NACIO  SEXO   año  \\\n",
       "0    2018-08-30 10:22:16          153         5083     0  2018   \n",
       "1    2018-10-07 07:59:50          153         4651     1  2018   \n",
       "2    2018-06-20 02:59:47          153          875     1  2018   \n",
       "3    2018-04-05 05:23:01          153         5078     1  2018   \n",
       "4    2018-11-10 04:35:50          661         4415     0  2018   \n",
       "...                  ...          ...          ...   ...   ...   \n",
       "6526 2022-01-01 11:50:00          112          178     0  2022   \n",
       "6527 2022-03-02 05:59:27          112          562     1  2022   \n",
       "6528 2022-02-09 09:16:25          112          879     1  2022   \n",
       "6529 2022-09-13 08:31:12          161         4868     1  2022   \n",
       "6530 2022-06-16 05:27:10          163         4198     0  2022   \n",
       "\n",
       "      SERVICIO_NEONATOLOGIA  SERVICIO_PEDIATRIA MEDICA  SERVICIO_RECUPERACION  \\\n",
       "0                     False                      False                  False   \n",
       "1                     False                      False                  False   \n",
       "2                     False                      False                  False   \n",
       "3                     False                      False                  False   \n",
       "4                     False                      False                  False   \n",
       "...                     ...                        ...                    ...   \n",
       "6526                  False                      False                  False   \n",
       "6527                  False                      False                  False   \n",
       "6528                  False                      False                  False   \n",
       "6529                  False                      False                  False   \n",
       "6530                  False                      False                  False   \n",
       "\n",
       "      SERVICIO_SALA DE PARTOS  SERVICIO_UCIN  \\\n",
       "0                       False          False   \n",
       "1                       False          False   \n",
       "2                       False          False   \n",
       "3                       False          False   \n",
       "4                       False          False   \n",
       "...                       ...            ...   \n",
       "6526                    False          False   \n",
       "6527                    False          False   \n",
       "6528                    False          False   \n",
       "6529                    False          False   \n",
       "6530                    False          False   \n",
       "\n",
       "      SERVICIO_UNIDAD DE CUIDADO INTERMEDIO  SERVIVIO_PISO_5_12  \\\n",
       "0                                     False               False   \n",
       "1                                     False               False   \n",
       "2                                     False               False   \n",
       "3                                     False               False   \n",
       "4                                     False               False   \n",
       "...                                     ...                 ...   \n",
       "6526                                  False               False   \n",
       "6527                                  False               False   \n",
       "6528                                  False               False   \n",
       "6529                                  False               False   \n",
       "6530                                  False               False   \n",
       "\n",
       "      SERVICIO_URGENCIA ADULTO  SERVICIOS_URGENCIA PEDIATRIA  edad  DIA  MES  \n",
       "0                        False                          True     0   30    8  \n",
       "1                         True                         False    29    7   10  \n",
       "2                         True                         False    80   20    6  \n",
       "3                        False                          True     0    5    4  \n",
       "4                         True                         False    36   10   11  \n",
       "...                        ...                           ...   ...  ...  ...  \n",
       "6526                      True                         False    92    1    1  \n",
       "6527                      True                         False    86    2    3  \n",
       "6528                      True                         False    83    9    2  \n",
       "6529                      True                         False    26   13    9  \n",
       "6530                      True                         False    45   16    6  \n",
       "\n",
       "[6531 rows x 17 columns]"
      ]
     },
     "execution_count": 8,
     "metadata": {},
     "output_type": "execute_result"
    }
   ],
   "source": [
    "data_spv.head(-5)"
   ]
  },
  {
   "cell_type": "code",
   "execution_count": 9,
   "id": "e2f89867",
   "metadata": {},
   "outputs": [],
   "source": [
    "data_spv['FECHA'] = data_spv['FECHA'].astype(int)"
   ]
  },
  {
   "cell_type": "markdown",
   "id": "c8e1ee3c",
   "metadata": {},
   "source": [
    "## Aprendizaje supervisado random forest"
   ]
  },
  {
   "cell_type": "code",
   "execution_count": 10,
   "id": "c5a7dc53",
   "metadata": {},
   "outputs": [],
   "source": [
    "\n",
    "from sklearn.ensemble import RandomForestRegressor\n",
    "from sklearn.model_selection import train_test_split"
   ]
  },
  {
   "cell_type": "code",
   "execution_count": 11,
   "id": "2b3bb096",
   "metadata": {},
   "outputs": [],
   "source": [
    "y = data_spv.pop('edad')\n",
    "X = data_spv.copy() "
   ]
  },
  {
   "cell_type": "code",
   "execution_count": 12,
   "id": "b68a4b43",
   "metadata": {},
   "outputs": [],
   "source": [
    "X_train, X_test, y_train, y_test = train_test_split(X, y, test_size=0.33, random_state=42)"
   ]
  },
  {
   "cell_type": "code",
   "execution_count": 13,
   "id": "8e3a279a",
   "metadata": {},
   "outputs": [],
   "source": [
    "clf = RandomForestRegressor(n_estimators=1000, max_depth=4)"
   ]
  },
  {
   "cell_type": "code",
   "execution_count": 14,
   "id": "35175bc8",
   "metadata": {},
   "outputs": [
    {
     "data": {
      "text/html": [
       "<style>#sk-container-id-1 {color: black;}#sk-container-id-1 pre{padding: 0;}#sk-container-id-1 div.sk-toggleable {background-color: white;}#sk-container-id-1 label.sk-toggleable__label {cursor: pointer;display: block;width: 100%;margin-bottom: 0;padding: 0.3em;box-sizing: border-box;text-align: center;}#sk-container-id-1 label.sk-toggleable__label-arrow:before {content: \"▸\";float: left;margin-right: 0.25em;color: #696969;}#sk-container-id-1 label.sk-toggleable__label-arrow:hover:before {color: black;}#sk-container-id-1 div.sk-estimator:hover label.sk-toggleable__label-arrow:before {color: black;}#sk-container-id-1 div.sk-toggleable__content {max-height: 0;max-width: 0;overflow: hidden;text-align: left;background-color: #f0f8ff;}#sk-container-id-1 div.sk-toggleable__content pre {margin: 0.2em;color: black;border-radius: 0.25em;background-color: #f0f8ff;}#sk-container-id-1 input.sk-toggleable__control:checked~div.sk-toggleable__content {max-height: 200px;max-width: 100%;overflow: auto;}#sk-container-id-1 input.sk-toggleable__control:checked~label.sk-toggleable__label-arrow:before {content: \"▾\";}#sk-container-id-1 div.sk-estimator input.sk-toggleable__control:checked~label.sk-toggleable__label {background-color: #d4ebff;}#sk-container-id-1 div.sk-label input.sk-toggleable__control:checked~label.sk-toggleable__label {background-color: #d4ebff;}#sk-container-id-1 input.sk-hidden--visually {border: 0;clip: rect(1px 1px 1px 1px);clip: rect(1px, 1px, 1px, 1px);height: 1px;margin: -1px;overflow: hidden;padding: 0;position: absolute;width: 1px;}#sk-container-id-1 div.sk-estimator {font-family: monospace;background-color: #f0f8ff;border: 1px dotted black;border-radius: 0.25em;box-sizing: border-box;margin-bottom: 0.5em;}#sk-container-id-1 div.sk-estimator:hover {background-color: #d4ebff;}#sk-container-id-1 div.sk-parallel-item::after {content: \"\";width: 100%;border-bottom: 1px solid gray;flex-grow: 1;}#sk-container-id-1 div.sk-label:hover label.sk-toggleable__label {background-color: #d4ebff;}#sk-container-id-1 div.sk-serial::before {content: \"\";position: absolute;border-left: 1px solid gray;box-sizing: border-box;top: 0;bottom: 0;left: 50%;z-index: 0;}#sk-container-id-1 div.sk-serial {display: flex;flex-direction: column;align-items: center;background-color: white;padding-right: 0.2em;padding-left: 0.2em;position: relative;}#sk-container-id-1 div.sk-item {position: relative;z-index: 1;}#sk-container-id-1 div.sk-parallel {display: flex;align-items: stretch;justify-content: center;background-color: white;position: relative;}#sk-container-id-1 div.sk-item::before, #sk-container-id-1 div.sk-parallel-item::before {content: \"\";position: absolute;border-left: 1px solid gray;box-sizing: border-box;top: 0;bottom: 0;left: 50%;z-index: -1;}#sk-container-id-1 div.sk-parallel-item {display: flex;flex-direction: column;z-index: 1;position: relative;background-color: white;}#sk-container-id-1 div.sk-parallel-item:first-child::after {align-self: flex-end;width: 50%;}#sk-container-id-1 div.sk-parallel-item:last-child::after {align-self: flex-start;width: 50%;}#sk-container-id-1 div.sk-parallel-item:only-child::after {width: 0;}#sk-container-id-1 div.sk-dashed-wrapped {border: 1px dashed gray;margin: 0 0.4em 0.5em 0.4em;box-sizing: border-box;padding-bottom: 0.4em;background-color: white;}#sk-container-id-1 div.sk-label label {font-family: monospace;font-weight: bold;display: inline-block;line-height: 1.2em;}#sk-container-id-1 div.sk-label-container {text-align: center;}#sk-container-id-1 div.sk-container {/* jupyter's `normalize.less` sets `[hidden] { display: none; }` but bootstrap.min.css set `[hidden] { display: none !important; }` so we also need the `!important` here to be able to override the default hidden behavior on the sphinx rendered scikit-learn.org. See: https://github.com/scikit-learn/scikit-learn/issues/21755 */display: inline-block !important;position: relative;}#sk-container-id-1 div.sk-text-repr-fallback {display: none;}</style><div id=\"sk-container-id-1\" class=\"sk-top-container\"><div class=\"sk-text-repr-fallback\"><pre>RandomForestRegressor(max_depth=4, n_estimators=1000)</pre><b>In a Jupyter environment, please rerun this cell to show the HTML representation or trust the notebook. <br />On GitHub, the HTML representation is unable to render, please try loading this page with nbviewer.org.</b></div><div class=\"sk-container\" hidden><div class=\"sk-item\"><div class=\"sk-estimator sk-toggleable\"><input class=\"sk-toggleable__control sk-hidden--visually\" id=\"sk-estimator-id-1\" type=\"checkbox\" checked><label for=\"sk-estimator-id-1\" class=\"sk-toggleable__label sk-toggleable__label-arrow\">RandomForestRegressor</label><div class=\"sk-toggleable__content\"><pre>RandomForestRegressor(max_depth=4, n_estimators=1000)</pre></div></div></div></div></div>"
      ],
      "text/plain": [
       "RandomForestRegressor(max_depth=4, n_estimators=1000)"
      ]
     },
     "execution_count": 14,
     "metadata": {},
     "output_type": "execute_result"
    }
   ],
   "source": [
    "clf.fit(X_train, y_train)"
   ]
  },
  {
   "cell_type": "code",
   "execution_count": 15,
   "id": "0489cf8a",
   "metadata": {},
   "outputs": [],
   "source": [
    "from sklearn.metrics import r2_score"
   ]
  },
  {
   "cell_type": "code",
   "execution_count": 16,
   "id": "93138c10",
   "metadata": {},
   "outputs": [
    {
     "data": {
      "text/plain": [
       "0.9935117528883163"
      ]
     },
     "execution_count": 16,
     "metadata": {},
     "output_type": "execute_result"
    }
   ],
   "source": [
    "r2_score(y_test, clf.predict(X_test))"
   ]
  },
  {
   "cell_type": "code",
   "execution_count": 17,
   "id": "92fce2e2",
   "metadata": {},
   "outputs": [],
   "source": [
    "from sklearn.metrics import mean_squared_error\n",
    "\n",
    "\n",
    "mse = mean_squared_error(y_test, clf.predict(X_test))"
   ]
  },
  {
   "cell_type": "code",
   "execution_count": 18,
   "id": "61ff3421",
   "metadata": {},
   "outputs": [
    {
     "data": {
      "text/plain": [
       "3.1948592603364947"
      ]
     },
     "execution_count": 18,
     "metadata": {},
     "output_type": "execute_result"
    }
   ],
   "source": [
    "mse"
   ]
  },
  {
   "cell_type": "markdown",
   "id": "ed76d80e",
   "metadata": {},
   "source": [
    "## Naive Bayes"
   ]
  },
  {
   "cell_type": "code",
   "execution_count": 19,
   "id": "63017095",
   "metadata": {},
   "outputs": [],
   "source": [
    "from sklearn.naive_bayes import GaussianNB\n",
    "from sklearn.metrics import accuracy_score,classification_report, confusion_matrix"
   ]
  },
  {
   "cell_type": "code",
   "execution_count": 20,
   "id": "abe39130",
   "metadata": {},
   "outputs": [],
   "source": [
    "X = data_spv.drop(columns=['DIAGNOSTICO'])\n",
    "y = data_spv['DIAGNOSTICO']"
   ]
  },
  {
   "cell_type": "code",
   "execution_count": 21,
   "id": "beb96f09",
   "metadata": {},
   "outputs": [],
   "source": [
    "X_train, X_test, y_train, y_test = train_test_split(X, y, test_size=0.2, random_state=42)"
   ]
  },
  {
   "cell_type": "code",
   "execution_count": 22,
   "id": "bba2e7a4",
   "metadata": {},
   "outputs": [],
   "source": [
    "gnb = GaussianNB()"
   ]
  },
  {
   "cell_type": "code",
   "execution_count": 23,
   "id": "789d45e8",
   "metadata": {},
   "outputs": [
    {
     "data": {
      "text/html": [
       "<style>#sk-container-id-2 {color: black;}#sk-container-id-2 pre{padding: 0;}#sk-container-id-2 div.sk-toggleable {background-color: white;}#sk-container-id-2 label.sk-toggleable__label {cursor: pointer;display: block;width: 100%;margin-bottom: 0;padding: 0.3em;box-sizing: border-box;text-align: center;}#sk-container-id-2 label.sk-toggleable__label-arrow:before {content: \"▸\";float: left;margin-right: 0.25em;color: #696969;}#sk-container-id-2 label.sk-toggleable__label-arrow:hover:before {color: black;}#sk-container-id-2 div.sk-estimator:hover label.sk-toggleable__label-arrow:before {color: black;}#sk-container-id-2 div.sk-toggleable__content {max-height: 0;max-width: 0;overflow: hidden;text-align: left;background-color: #f0f8ff;}#sk-container-id-2 div.sk-toggleable__content pre {margin: 0.2em;color: black;border-radius: 0.25em;background-color: #f0f8ff;}#sk-container-id-2 input.sk-toggleable__control:checked~div.sk-toggleable__content {max-height: 200px;max-width: 100%;overflow: auto;}#sk-container-id-2 input.sk-toggleable__control:checked~label.sk-toggleable__label-arrow:before {content: \"▾\";}#sk-container-id-2 div.sk-estimator input.sk-toggleable__control:checked~label.sk-toggleable__label {background-color: #d4ebff;}#sk-container-id-2 div.sk-label input.sk-toggleable__control:checked~label.sk-toggleable__label {background-color: #d4ebff;}#sk-container-id-2 input.sk-hidden--visually {border: 0;clip: rect(1px 1px 1px 1px);clip: rect(1px, 1px, 1px, 1px);height: 1px;margin: -1px;overflow: hidden;padding: 0;position: absolute;width: 1px;}#sk-container-id-2 div.sk-estimator {font-family: monospace;background-color: #f0f8ff;border: 1px dotted black;border-radius: 0.25em;box-sizing: border-box;margin-bottom: 0.5em;}#sk-container-id-2 div.sk-estimator:hover {background-color: #d4ebff;}#sk-container-id-2 div.sk-parallel-item::after {content: \"\";width: 100%;border-bottom: 1px solid gray;flex-grow: 1;}#sk-container-id-2 div.sk-label:hover label.sk-toggleable__label {background-color: #d4ebff;}#sk-container-id-2 div.sk-serial::before {content: \"\";position: absolute;border-left: 1px solid gray;box-sizing: border-box;top: 0;bottom: 0;left: 50%;z-index: 0;}#sk-container-id-2 div.sk-serial {display: flex;flex-direction: column;align-items: center;background-color: white;padding-right: 0.2em;padding-left: 0.2em;position: relative;}#sk-container-id-2 div.sk-item {position: relative;z-index: 1;}#sk-container-id-2 div.sk-parallel {display: flex;align-items: stretch;justify-content: center;background-color: white;position: relative;}#sk-container-id-2 div.sk-item::before, #sk-container-id-2 div.sk-parallel-item::before {content: \"\";position: absolute;border-left: 1px solid gray;box-sizing: border-box;top: 0;bottom: 0;left: 50%;z-index: -1;}#sk-container-id-2 div.sk-parallel-item {display: flex;flex-direction: column;z-index: 1;position: relative;background-color: white;}#sk-container-id-2 div.sk-parallel-item:first-child::after {align-self: flex-end;width: 50%;}#sk-container-id-2 div.sk-parallel-item:last-child::after {align-self: flex-start;width: 50%;}#sk-container-id-2 div.sk-parallel-item:only-child::after {width: 0;}#sk-container-id-2 div.sk-dashed-wrapped {border: 1px dashed gray;margin: 0 0.4em 0.5em 0.4em;box-sizing: border-box;padding-bottom: 0.4em;background-color: white;}#sk-container-id-2 div.sk-label label {font-family: monospace;font-weight: bold;display: inline-block;line-height: 1.2em;}#sk-container-id-2 div.sk-label-container {text-align: center;}#sk-container-id-2 div.sk-container {/* jupyter's `normalize.less` sets `[hidden] { display: none; }` but bootstrap.min.css set `[hidden] { display: none !important; }` so we also need the `!important` here to be able to override the default hidden behavior on the sphinx rendered scikit-learn.org. See: https://github.com/scikit-learn/scikit-learn/issues/21755 */display: inline-block !important;position: relative;}#sk-container-id-2 div.sk-text-repr-fallback {display: none;}</style><div id=\"sk-container-id-2\" class=\"sk-top-container\"><div class=\"sk-text-repr-fallback\"><pre>GaussianNB()</pre><b>In a Jupyter environment, please rerun this cell to show the HTML representation or trust the notebook. <br />On GitHub, the HTML representation is unable to render, please try loading this page with nbviewer.org.</b></div><div class=\"sk-container\" hidden><div class=\"sk-item\"><div class=\"sk-estimator sk-toggleable\"><input class=\"sk-toggleable__control sk-hidden--visually\" id=\"sk-estimator-id-2\" type=\"checkbox\" checked><label for=\"sk-estimator-id-2\" class=\"sk-toggleable__label sk-toggleable__label-arrow\">GaussianNB</label><div class=\"sk-toggleable__content\"><pre>GaussianNB()</pre></div></div></div></div></div>"
      ],
      "text/plain": [
       "GaussianNB()"
      ]
     },
     "execution_count": 23,
     "metadata": {},
     "output_type": "execute_result"
    }
   ],
   "source": [
    "gnb.fit(X_train, y_train)"
   ]
  },
  {
   "cell_type": "code",
   "execution_count": 24,
   "id": "1fc99421",
   "metadata": {},
   "outputs": [],
   "source": [
    "y_pred = gnb.predict(X_test)"
   ]
  },
  {
   "cell_type": "code",
   "execution_count": 25,
   "id": "89a406c3",
   "metadata": {},
   "outputs": [
    {
     "name": "stdout",
     "output_type": "stream",
     "text": [
      "Precisión del modelo: 23.24%\n"
     ]
    }
   ],
   "source": [
    "#calculamos la precision del modelo en el conjunto de prueba\n",
    "accuracy = accuracy_score(y_test, y_pred)\n",
    "print(\"Precisión del modelo: {:.2f}%\".format(accuracy * 100))"
   ]
  },
  {
   "cell_type": "code",
   "execution_count": 37,
   "id": "fb1e7d2f",
   "metadata": {},
   "outputs": [
    {
     "name": "stderr",
     "output_type": "stream",
     "text": [
      "/home/dani94/Data_mortalidad/mortalidad-hospital-erasmo/venv/lib/python3.10/site-packages/sklearn/metrics/_classification.py:1469: UndefinedMetricWarning: Precision and F-score are ill-defined and being set to 0.0 in labels with no predicted samples. Use `zero_division` parameter to control this behavior.\n",
      "  _warn_prf(average, modifier, msg_start, len(result))\n",
      "/home/dani94/Data_mortalidad/mortalidad-hospital-erasmo/venv/lib/python3.10/site-packages/sklearn/metrics/_classification.py:1469: UndefinedMetricWarning: Recall and F-score are ill-defined and being set to 0.0 in labels with no true samples. Use `zero_division` parameter to control this behavior.\n",
      "  _warn_prf(average, modifier, msg_start, len(result))\n",
      "/home/dani94/Data_mortalidad/mortalidad-hospital-erasmo/venv/lib/python3.10/site-packages/sklearn/metrics/_classification.py:1469: UndefinedMetricWarning: Precision and F-score are ill-defined and being set to 0.0 in labels with no predicted samples. Use `zero_division` parameter to control this behavior.\n",
      "  _warn_prf(average, modifier, msg_start, len(result))\n",
      "/home/dani94/Data_mortalidad/mortalidad-hospital-erasmo/venv/lib/python3.10/site-packages/sklearn/metrics/_classification.py:1469: UndefinedMetricWarning: Recall and F-score are ill-defined and being set to 0.0 in labels with no true samples. Use `zero_division` parameter to control this behavior.\n",
      "  _warn_prf(average, modifier, msg_start, len(result))\n",
      "/home/dani94/Data_mortalidad/mortalidad-hospital-erasmo/venv/lib/python3.10/site-packages/sklearn/metrics/_classification.py:1469: UndefinedMetricWarning: Precision and F-score are ill-defined and being set to 0.0 in labels with no predicted samples. Use `zero_division` parameter to control this behavior.\n",
      "  _warn_prf(average, modifier, msg_start, len(result))\n",
      "/home/dani94/Data_mortalidad/mortalidad-hospital-erasmo/venv/lib/python3.10/site-packages/sklearn/metrics/_classification.py:1469: UndefinedMetricWarning: Recall and F-score are ill-defined and being set to 0.0 in labels with no true samples. Use `zero_division` parameter to control this behavior.\n",
      "  _warn_prf(average, modifier, msg_start, len(result))\n"
     ]
    },
    {
     "data": {
      "text/plain": [
       "'              precision    recall  f1-score   support\\n\\n           6       0.00      0.00      0.00         1\\n           9       0.00      0.00      0.00         5\\n          14       0.00      0.00      0.00         0\\n          15       0.00      0.00      0.00         0\\n          19       0.00      0.00      0.00         5\\n          21       0.00      0.00      0.00         0\\n          22       0.00      0.00      0.00         1\\n          23       0.00      0.00      0.00         1\\n          25       0.00      0.00      0.00         2\\n          27       0.00      0.00      0.00         0\\n          31       0.00      0.00      0.00         1\\n          33       0.00      0.00      0.00         1\\n          34       0.00      0.00      0.00         0\\n          39       0.00      0.00      0.00         1\\n          43       0.00      0.00      0.00         0\\n          49       0.00      0.00      0.00         3\\n          50       0.00      0.00      0.00         3\\n          56       0.00      0.00      0.00         1\\n          62       0.00      0.00      0.00         1\\n          67       0.00      0.00      0.00         1\\n          69       0.00      0.00      0.00         1\\n          74       0.00      0.00      0.00         1\\n          76       0.00      0.00      0.00         1\\n          78       0.00      0.00      0.00         1\\n          79       0.00      0.00      0.00         2\\n          80       0.00      0.00      0.00         3\\n          84       0.00      0.00      0.00         2\\n          85       0.00      0.00      0.00         1\\n          86       0.00      0.00      0.00         1\\n          88       0.00      0.00      0.00         3\\n          89       0.00      0.00      0.00         7\\n          91       0.00      0.00      0.00         2\\n          94       0.00      0.00      0.00         1\\n          95       0.00      0.00      0.00         4\\n          97       0.00      0.00      0.00         1\\n         101       0.00      0.00      0.00         1\\n         102       0.00      0.00      0.00         0\\n         105       0.00      0.00      0.00         1\\n         106       0.00      0.00      0.00         1\\n         108       0.00      0.00      0.00         1\\n         110       0.00      0.00      0.00         1\\n         111       0.39      0.95      0.55       289\\n         112       0.00      0.00      0.00        28\\n         117       0.00      0.00      0.00         1\\n         119       0.00      0.00      0.00         1\\n         122       0.00      0.00      0.00         2\\n         123       0.00      0.00      0.00         4\\n         124       0.00      0.00      0.00         2\\n         127       0.00      0.00      0.00         1\\n         128       0.00      0.00      0.00         1\\n         129       0.00      0.00      0.00         7\\n         130       0.00      0.00      0.00         1\\n         131       0.00      0.00      0.00         1\\n         132       0.00      0.00      0.00         1\\n         133       0.00      0.00      0.00         3\\n         134       0.00      0.00      0.00         2\\n         135       0.00      0.00      0.00         3\\n         136       0.00      0.00      0.00         2\\n         137       0.00      0.00      0.00         1\\n         138       0.00      0.00      0.00         1\\n         140       0.00      0.00      0.00         1\\n         141       0.00      0.00      0.00         1\\n         143       0.00      0.00      0.00         1\\n         145       0.00      0.00      0.00         3\\n         147       0.00      0.00      0.00         0\\n         152       0.00      0.00      0.00         0\\n         153       0.00      0.00      0.00         1\\n         154       0.00      0.00      0.00         4\\n         158       0.00      0.00      0.00         1\\n         160       0.00      0.00      0.00         0\\n         161       0.00      0.00      0.00         2\\n         162       0.00      0.00      0.00         0\\n         163       0.00      0.00      0.00         2\\n         164       0.00      0.00      0.00         1\\n         166       0.00      0.00      0.00         2\\n         168       0.00      0.00      0.00         1\\n         174       0.00      0.00      0.00         1\\n         176       0.00      0.00      0.00         2\\n         178       0.00      0.00      0.00         1\\n         181       0.00      0.00      0.00         1\\n         185       0.00      0.00      0.00         1\\n         190       0.00      0.00      0.00         6\\n         191       0.00      0.00      0.00         6\\n         197       0.00      0.00      0.00         1\\n         198       0.00      0.00      0.00         1\\n         199       0.00      0.00      0.00         1\\n         201       0.00      0.00      0.00         9\\n         205       0.00      0.00      0.00         4\\n         207       0.00      0.00      0.00         1\\n         210       0.00      0.00      0.00         1\\n         211       0.00      0.00      0.00        29\\n         217       0.00      0.00      0.00         1\\n         219       0.00      0.00      0.00         0\\n         221       0.00      0.00      0.00         2\\n         222       0.00      0.00      0.00         1\\n         225       0.00      0.00      0.00         1\\n         228       0.00      0.00      0.00         0\\n         231       0.00      0.00      0.00         3\\n         232       0.00      0.00      0.00         1\\n         234       0.00      0.00      0.00         1\\n         235       0.00      0.00      0.00         1\\n         236       0.00      0.00      0.00         2\\n         237       0.00      0.00      0.00         1\\n         240       0.00      0.00      0.00         1\\n         244       0.00      0.00      0.00        11\\n         245       0.00      0.00      0.00         0\\n         246       0.00      0.00      0.00         2\\n         247       0.00      0.00      0.00        12\\n         248       0.00      0.00      0.00        13\\n         249       0.00      0.00      0.00         9\\n         250       0.00      0.00      0.00         0\\n         251       0.00      0.00      0.00         2\\n         252       0.00      0.00      0.00        10\\n         253       0.00      0.00      0.00         2\\n         255       0.00      0.00      0.00         2\\n         257       0.00      0.00      0.00         1\\n         263       0.00      0.00      0.00         1\\n         267       0.00      0.00      0.00         1\\n         269       0.00      0.00      0.00         2\\n         272       0.00      0.00      0.00         0\\n         279       0.00      0.00      0.00         3\\n         281       0.00      0.00      0.00         1\\n         283       0.00      0.00      0.00         1\\n         287       0.00      0.00      0.00         1\\n         288       0.00      0.00      0.00         1\\n         290       0.00      0.00      0.00         1\\n         296       0.00      0.00      0.00         1\\n         301       0.00      0.00      0.00         0\\n         305       0.00      0.00      0.00         1\\n         306       0.00      0.00      0.00         1\\n         308       0.00      0.00      0.00         1\\n         309       0.00      0.00      0.00         1\\n         310       0.00      0.00      0.00         1\\n         312       0.00      0.00      0.00         1\\n         313       0.00      0.00      0.00         1\\n         315       0.00      0.00      0.00         0\\n         316       0.00      0.00      0.00         0\\n         318       0.00      0.00      0.00        15\\n         320       0.00      0.00      0.00         3\\n         321       0.00      0.00      0.00         3\\n         324       0.00      0.00      0.00         2\\n         325       0.00      0.00      0.00         1\\n         328       0.00      0.00      0.00         1\\n         330       0.00      0.00      0.00         1\\n         333       0.00      0.00      0.00         1\\n         334       0.00      0.00      0.00         1\\n         335       0.00      0.00      0.00         5\\n         336       0.00      0.00      0.00         1\\n         337       0.00      0.00      0.00         1\\n         339       0.00      0.00      0.00         1\\n         343       0.00      0.00      0.00         1\\n         347       0.00      0.00      0.00         1\\n         348       0.00      0.00      0.00         1\\n         350       0.00      0.00      0.00         1\\n         352       0.00      0.00      0.00         2\\n         353       0.00      0.00      0.00         1\\n         354       0.00      0.00      0.00         1\\n         355       0.00      0.00      0.00         1\\n         356       0.00      0.00      0.00         1\\n         359       0.00      0.00      0.00         1\\n         363       0.00      0.00      0.00         1\\n         365       0.00      0.00      0.00         1\\n         367       0.00      0.00      0.00         1\\n         372       0.00      0.00      0.00         1\\n         374       0.00      0.00      0.00        18\\n         376       0.00      0.00      0.00         1\\n         380       0.00      0.00      0.00         1\\n         381       0.00      0.00      0.00         1\\n         382       0.00      0.00      0.00         1\\n         383       0.00      0.00      0.00        22\\n         384       0.00      0.00      0.00         1\\n         385       0.00      0.00      0.00         4\\n         387       0.00      0.00      0.00         6\\n         388       0.00      0.00      0.00         0\\n         389       0.00      0.00      0.00         2\\n         390       0.00      0.00      0.00         2\\n         391       0.00      0.00      0.00         1\\n         392       0.00      0.00      0.00         1\\n         393       0.00      0.00      0.00         1\\n         395       0.00      0.00      0.00        16\\n         398       0.00      0.00      0.00         4\\n         399       0.00      0.00      0.00         1\\n         401       0.00      0.00      0.00         1\\n         402       0.00      0.00      0.00         8\\n         406       0.00      0.00      0.00        17\\n         407       0.00      0.00      0.00         7\\n         408       0.00      0.00      0.00         1\\n         409       0.00      0.00      0.00         1\\n         412       0.00      0.00      0.00         4\\n         413       0.00      0.00      0.00        10\\n         415       0.00      0.00      0.00        23\\n         418       0.00      0.00      0.00         9\\n         420       0.00      0.00      0.00         1\\n         423       0.00      0.00      0.00         1\\n         424       0.00      0.00      0.00         1\\n         425       0.00      0.00      0.00         1\\n         426       0.00      0.00      0.00         2\\n         427       0.00      0.00      0.00         7\\n         428       0.00      0.00      0.00         1\\n         430       0.00      0.00      0.00         5\\n         431       0.00      0.00      0.00         1\\n         432       0.00      0.00      0.00         0\\n         433       0.00      0.00      0.00         1\\n         434       0.00      0.00      0.00         1\\n         437       0.00      0.00      0.00         0\\n         439       0.00      0.00      0.00         1\\n         440       0.00      0.00      0.00         1\\n         445       0.00      0.00      0.00         1\\n         451       0.00      0.00      0.00         1\\n         453       0.00      0.00      0.00         0\\n         461       0.00      0.00      0.00         1\\n         464       0.00      0.00      0.00         1\\n         466       0.00      0.00      0.00         1\\n         468       0.00      0.00      0.00         1\\n         471       0.00      0.00      0.00        20\\n         472       0.00      0.00      0.00         1\\n         474       0.00      0.00      0.00         0\\n         478       0.00      0.00      0.00        24\\n         483       0.00      0.00      0.00         1\\n         484       0.00      0.00      0.00         2\\n         486       0.00      0.00      0.00         1\\n         487       0.00      0.00      0.00         1\\n         489       0.00      0.00      0.00         7\\n         490       0.00      0.00      0.00        46\\n         495       0.00      0.00      0.00         2\\n         496       0.00      0.00      0.00         1\\n         497       0.00      0.00      0.00         2\\n         499       0.00      0.00      0.00         2\\n         500       0.00      0.00      0.00         0\\n         501       0.00      0.00      0.00         0\\n         506       0.00      0.00      0.00         0\\n         509       0.00      0.00      0.00         4\\n         510       0.00      0.00      0.00         0\\n         511       0.00      0.00      0.00         1\\n         514       0.00      0.00      0.00         1\\n         515       0.00      0.00      0.00         1\\n         516       0.00      0.00      0.00         1\\n         526       0.00      0.00      0.00         0\\n         527       0.00      0.00      0.00         0\\n         528       0.00      0.00      0.00         2\\n         530       0.00      0.00      0.00         3\\n         532       0.00      0.00      0.00         1\\n         535       0.00      0.00      0.00         1\\n         536       0.00      0.00      0.00         2\\n         537       0.00      0.00      0.00         4\\n         539       0.00      0.00      0.00         1\\n         540       0.00      0.00      0.00         1\\n         541       0.00      0.00      0.00         1\\n         542       0.00      0.00      0.00         2\\n         543       0.00      0.00      0.00         1\\n         553       0.00      0.00      0.00         1\\n         558       0.00      0.00      0.00         1\\n         560       0.00      0.00      0.00         1\\n         561       0.00      0.00      0.00         1\\n         562       0.00      0.00      0.00         0\\n         563       0.00      0.00      0.00         1\\n         564       0.14      0.16      0.14        32\\n         565       0.00      0.00      0.00         0\\n         568       0.00      0.00      0.00         1\\n         569       0.00      0.00      0.00         1\\n         572       0.00      0.00      0.00         1\\n         574       0.00      0.00      0.00         0\\n         577       0.00      0.00      0.00         0\\n         579       0.00      0.00      0.00         1\\n         581       0.00      0.00      0.00         0\\n         586       0.00      0.00      0.00         1\\n         588       0.00      0.00      0.00         0\\n         591       0.00      0.00      0.00         2\\n         592       0.00      0.00      0.00         1\\n         593       0.00      0.00      0.00         1\\n         594       0.00      0.00      0.00         3\\n         595       0.00      0.00      0.00         1\\n         597       0.00      0.00      0.00         2\\n         599       0.00      0.00      0.00         2\\n         600       0.00      0.00      0.00         2\\n         604       0.05      0.28      0.09        86\\n         606       0.00      0.00      0.00         1\\n         607       0.00      0.00      0.00         0\\n         608       0.00      0.00      0.00         1\\n         609       0.00      0.00      0.00        22\\n         610       0.00      0.00      0.00         2\\n         617       0.00      0.00      0.00         1\\n         619       0.00      0.00      0.00         1\\n         621       0.00      0.00      0.00         1\\n         627       0.00      0.00      0.00         1\\n         629       0.00      0.00      0.00         5\\n         630       0.00      0.00      0.00         1\\n         631       0.00      0.00      0.00         1\\n         634       0.00      0.00      0.00         1\\n         635       0.00      0.00      0.00         0\\n         636       0.00      0.00      0.00         1\\n         639       0.00      0.00      0.00         1\\n         640       0.00      0.00      0.00        18\\n         643       0.00      0.00      0.00         1\\n         648       0.00      0.00      0.00         1\\n         649       0.00      0.00      0.00         1\\n         653       0.00      0.00      0.00         1\\n         658       0.00      0.00      0.00         1\\n         661       0.00      0.00      0.00         3\\n         662       0.00      0.00      0.00         1\\n         664       0.00      0.00      0.00         1\\n         667       0.00      0.00      0.00         0\\n         669       0.00      0.00      0.00         1\\n         671       0.00      0.00      0.00         1\\n         672       0.00      0.00      0.00         1\\n         683       0.00      0.00      0.00         2\\n         684       0.00      0.00      0.00         1\\n         685       0.00      0.00      0.00         1\\n         686       0.00      0.00      0.00         1\\n         690       0.00      0.00      0.00         1\\n         692       0.00      0.00      0.00         1\\n         694       0.00      0.00      0.00         2\\n         695       0.00      0.00      0.00         3\\n         696       0.00      0.00      0.00         1\\n         698       0.00      0.00      0.00         1\\n         699       0.00      0.00      0.00         1\\n         700       0.00      0.00      0.00         2\\n         709       0.00      0.00      0.00         1\\n         711       0.00      0.00      0.00         5\\n         713       0.00      0.00      0.00         1\\n         714       0.00      0.00      0.00         1\\n         721       0.00      0.00      0.00         4\\n         722       0.00      0.00      0.00         2\\n         724       0.00      0.00      0.00         2\\n         725       0.00      0.00      0.00         2\\n         727       0.00      0.00      0.00        10\\n         728       0.00      0.00      0.00         1\\n         730       0.00      0.00      0.00         1\\n         732       0.00      0.00      0.00         2\\n         734       0.00      0.00      0.00         1\\n         737       0.00      0.00      0.00         1\\n         738       0.00      0.00      0.00         1\\n         740       0.00      0.00      0.00         1\\n         741       0.00      0.00      0.00         2\\n         743       0.00      0.00      0.00         4\\n         746       0.00      0.00      0.00         1\\n         748       0.00      0.00      0.00         1\\n         749       0.00      0.00      0.00         3\\n         751       0.00      0.00      0.00         3\\n         752       0.00      0.00      0.00         1\\n         753       0.00      0.00      0.00         1\\n         754       0.00      0.00      0.00         1\\n         756       0.00      0.00      0.00         1\\n         758       0.00      0.00      0.00         5\\n         759       0.00      0.00      0.00         0\\n         760       0.00      0.00      0.00         4\\n         762       0.00      0.00      0.00         5\\n         765       0.00      0.00      0.00         2\\n         767       0.00      0.00      0.00         2\\n         769       0.00      0.00      0.00         1\\n         770       0.00      0.00      0.00         1\\n         771       0.00      0.00      0.00         2\\n         772       0.00      0.00      0.00         0\\n         773       0.00      0.00      0.00         0\\n         776       0.00      0.00      0.00         1\\n         778       0.00      0.00      0.00         4\\n         779       0.00      0.00      0.00         2\\n         780       0.00      0.00      0.00         2\\n         783       0.00      0.00      0.00         0\\n         784       0.00      0.00      0.00         1\\n         786       0.00      0.00      0.00         1\\n         792       0.00      0.00      0.00         2\\n         794       0.00      0.00      0.00         1\\n         795       0.00      0.00      0.00         1\\n         797       0.00      0.00      0.00         3\\n         799       0.00      0.00      0.00         1\\n         801       0.00      0.00      0.00         1\\n         804       0.00      0.00      0.00         1\\n         805       0.00      0.00      0.00         1\\n\\n    accuracy                           0.23      1308\\n   macro avg       0.00      0.00      0.00      1308\\nweighted avg       0.09      0.23      0.13      1308\\n'"
      ]
     },
     "execution_count": 37,
     "metadata": {},
     "output_type": "execute_result"
    }
   ],
   "source": [
    "classification_report(y_test, y_pred)"
   ]
  },
  {
   "cell_type": "code",
   "execution_count": 26,
   "id": "a75969de",
   "metadata": {},
   "outputs": [
    {
     "data": {
      "text/plain": [
       "array([[0, 0, 0, ..., 0, 0, 0],\n",
       "       [0, 0, 0, ..., 0, 0, 0],\n",
       "       [0, 0, 0, ..., 0, 0, 0],\n",
       "       ...,\n",
       "       [0, 0, 0, ..., 0, 0, 0],\n",
       "       [0, 0, 0, ..., 0, 0, 0],\n",
       "       [0, 0, 0, ..., 0, 0, 0]])"
      ]
     },
     "execution_count": 26,
     "metadata": {},
     "output_type": "execute_result"
    }
   ],
   "source": [
    "confusion_matrix(y_test, y_pred)"
   ]
  },
  {
   "cell_type": "markdown",
   "id": "3d226f28",
   "metadata": {},
   "source": [
    "## Redes Neuronales"
   ]
  },
  {
   "cell_type": "code",
   "execution_count": 28,
   "id": "f900aec4",
   "metadata": {},
   "outputs": [],
   "source": [
    "import tensorflow as tf\n",
    "from sklearn.preprocessing import StandardScaler"
   ]
  },
  {
   "cell_type": "code",
   "execution_count": 29,
   "id": "009befb7",
   "metadata": {},
   "outputs": [],
   "source": [
    "scaler = StandardScaler()\n",
    "x_train_scaled = scaler.fit_transform(X_train)\n",
    "x_test_scaled = scaler.transform(X_test)"
   ]
  },
  {
   "cell_type": "code",
   "execution_count": 30,
   "id": "a053fcc4",
   "metadata": {},
   "outputs": [],
   "source": [
    "#diseñamos la arquitectura de la red neuronal\n",
    "model = tf.keras.models.Sequential([\n",
    "    tf.keras.layers.Dense(128, activation='relu', input_shape=(X_train.shape[1],)),\n",
    "    tf.keras.layers.Dense(64, activation='relu'),\n",
    "    tf.keras.layers.Dense(1, activation='sigmoid')\n",
    "])"
   ]
  },
  {
   "cell_type": "code",
   "execution_count": 31,
   "id": "bf9701b4",
   "metadata": {},
   "outputs": [],
   "source": [
    "#compilamos el modelo\n",
    "model.compile(optimizer='adam', loss='binary_crossentropy', metrics=['accuracy'])"
   ]
  },
  {
   "cell_type": "code",
   "execution_count": 32,
   "id": "bef481d1",
   "metadata": {},
   "outputs": [
    {
     "name": "stdout",
     "output_type": "stream",
     "text": [
      "Epoch 1/10\n",
      "131/131 [==============================] - 2s 7ms/step - loss: -8993.2490 - accuracy: 2.3912e-04 - val_loss: -32659.4043 - val_accuracy: 0.0000e+00\n",
      "Epoch 2/10\n",
      "131/131 [==============================] - 1s 5ms/step - loss: -132370.8906 - accuracy: 2.3912e-04 - val_loss: -289387.0938 - val_accuracy: 0.0000e+00\n",
      "Epoch 3/10\n",
      "131/131 [==============================] - 1s 5ms/step - loss: -636184.3750 - accuracy: 2.3912e-04 - val_loss: -1062672.8750 - val_accuracy: 0.0000e+00\n",
      "Epoch 4/10\n",
      "131/131 [==============================] - 1s 5ms/step - loss: -1811500.2500 - accuracy: 2.3912e-04 - val_loss: -2604925.0000 - val_accuracy: 0.0000e+00\n",
      "Epoch 5/10\n",
      "131/131 [==============================] - 1s 5ms/step - loss: -3881491.0000 - accuracy: 2.3912e-04 - val_loss: -5122663.0000 - val_accuracy: 0.0000e+00\n",
      "Epoch 6/10\n",
      "131/131 [==============================] - 1s 5ms/step - loss: -7076023.0000 - accuracy: 2.3912e-04 - val_loss: -8795301.0000 - val_accuracy: 0.0000e+00\n",
      "Epoch 7/10\n",
      "131/131 [==============================] - 1s 5ms/step - loss: -11562293.0000 - accuracy: 2.3912e-04 - val_loss: -13801470.0000 - val_accuracy: 0.0000e+00\n",
      "Epoch 8/10\n",
      "131/131 [==============================] - 1s 5ms/step - loss: -17505196.0000 - accuracy: 2.3912e-04 - val_loss: -20302632.0000 - val_accuracy: 0.0000e+00\n",
      "Epoch 9/10\n",
      "131/131 [==============================] - 1s 5ms/step - loss: -25046666.0000 - accuracy: 2.3912e-04 - val_loss: -28397154.0000 - val_accuracy: 0.0000e+00\n",
      "Epoch 10/10\n",
      "131/131 [==============================] - 1s 5ms/step - loss: -34309580.0000 - accuracy: 2.3912e-04 - val_loss: -38202528.0000 - val_accuracy: 0.0000e+00\n"
     ]
    },
    {
     "data": {
      "text/plain": [
       "<keras.src.callbacks.History at 0x7f2d19a9cf10>"
      ]
     },
     "execution_count": 32,
     "metadata": {},
     "output_type": "execute_result"
    }
   ],
   "source": [
    "#entrenamos la red neuronal\n",
    "model.fit(x_train_scaled, y_train, epochs=10, batch_size=32, validation_split=0.2)"
   ]
  },
  {
   "cell_type": "code",
   "execution_count": 33,
   "id": "4a2bcff3",
   "metadata": {},
   "outputs": [
    {
     "name": "stdout",
     "output_type": "stream",
     "text": [
      "41/41 [==============================] - 0s 3ms/step - loss: -39657364.0000 - accuracy: 0.0000e+00\n",
      "Péridida en el conjunto de prueba -39657364.0\n",
      "Precisión en el conjunto de prueba 0.0\n"
     ]
    }
   ],
   "source": [
    "# Evaluamos el modelo\n",
    "loss, accuracy = model.evaluate(x_test_scaled, y_test)\n",
    "print('Péridida en el conjunto de prueba', loss)\n",
    "print('Precisión en el conjunto de prueba', accuracy)"
   ]
  },
  {
   "cell_type": "code",
   "execution_count": null,
   "id": "e09675d0",
   "metadata": {},
   "outputs": [],
   "source": []
  }
 ],
 "metadata": {
  "kernelspec": {
   "display_name": "Python 3 (ipykernel)",
   "language": "python",
   "name": "python3"
  },
  "language_info": {
   "codemirror_mode": {
    "name": "ipython",
    "version": 3
   },
   "file_extension": ".py",
   "mimetype": "text/x-python",
   "name": "python",
   "nbconvert_exporter": "python",
   "pygments_lexer": "ipython3",
   "version": "3.10.6"
  }
 },
 "nbformat": 4,
 "nbformat_minor": 5
}
